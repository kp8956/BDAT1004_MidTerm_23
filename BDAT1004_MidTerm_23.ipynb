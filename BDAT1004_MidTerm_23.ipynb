{
 "cells": [
  {
   "cell_type": "code",
   "execution_count": 12,
   "id": "74838a86",
   "metadata": {},
   "outputs": [],
   "source": [
    "def tough(indentation, pattern_length):\n",
    "    if pattern_length < 2:\n",
    "        return  \n",
    "    spaces = ' ' * indentation\n",
    "    stars = '*' * pattern_length\n",
    "    print(f\"{spaces}{stars}\")\n",
    "    tough(indentation + 1, pattern_length - 2) \n",
    "    print(f\"{spaces}{stars}\")\n",
    "\n"
   ]
  },
  {
   "cell_type": "code",
   "execution_count": 13,
   "id": "cd9089c9",
   "metadata": {},
   "outputs": [
    {
     "name": "stdout",
     "output_type": "stream",
     "text": [
      "**\n",
      "**\n",
      "****\n",
      " **\n",
      " **\n",
      "****\n"
     ]
    }
   ],
   "source": [
    "tough(0, 0)\n",
    "tough(0, 1)\n",
    "tough(0, 2)\n",
    "tough(0, 4)\n"
   ]
  },
  {
   "cell_type": "code",
   "execution_count": null,
   "id": "c91536f8",
   "metadata": {},
   "outputs": [],
   "source": []
  }
 ],
 "metadata": {
  "kernelspec": {
   "display_name": "Python 3 (ipykernel)",
   "language": "python",
   "name": "python3"
  },
  "language_info": {
   "codemirror_mode": {
    "name": "ipython",
    "version": 3
   },
   "file_extension": ".py",
   "mimetype": "text/x-python",
   "name": "python",
   "nbconvert_exporter": "python",
   "pygments_lexer": "ipython3",
   "version": "3.11.4"
  }
 },
 "nbformat": 4,
 "nbformat_minor": 5
}
